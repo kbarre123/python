{
 "metadata": {
  "name": "",
  "signature": "sha256:0e9cb1262f143d6bc3fb1ec6038567e05c3aae976979d8a0a426e50917ad0ed3"
 },
 "nbformat": 3,
 "nbformat_minor": 0,
 "worksheets": [
  {
   "cells": [
    {
     "cell_type": "heading",
     "level": 1,
     "metadata": {},
     "source": [
      "Boilerplate Python Program"
     ]
    },
    {
     "cell_type": "code",
     "collapsed": false,
     "input": [
      "#!/usr/bin/python\n",
      "\n",
      "# Import modules used here\n",
      "import sys\n",
      "\n",
      "# Gather our code in a main() function\n",
      "def main():\n",
      "    print 'Hello there, ', sys.argv[1]\n",
      "    \n",
      "if __name__ == '__main__':\n",
      "    main()"
     ],
     "language": "python",
     "metadata": {},
     "outputs": [
      {
       "output_type": "stream",
       "stream": "stdout",
       "text": [
        "Hello there,  -f\n"
       ]
      }
     ],
     "prompt_number": 3
    },
    {
     "cell_type": "code",
     "collapsed": false,
     "input": [],
     "language": "python",
     "metadata": {},
     "outputs": []
    }
   ],
   "metadata": {}
  }
 ]
}