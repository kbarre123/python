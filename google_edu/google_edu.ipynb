{
 "metadata": {
  "name": "",
  "signature": "sha256:1b86a4d1ec858d7c7b9dbeefdc36fc31b8396cd7cd241a773a01d5162d163e8a"
 },
 "nbformat": 3,
 "nbformat_minor": 0,
 "worksheets": [
  {
   "cells": [
    {
     "cell_type": "code",
     "collapsed": false,
     "input": [
      "my_dict = {}\n",
      "\n",
      "my_dict['a'] = 'alpha'\n",
      "my_dict['b'] = 'beta'\n",
      "my_dict['g'] = 'gamma'\n",
      "my_dict['o'] = 'omega'\n",
      "\n",
      "print my_dict"
     ],
     "language": "python",
     "metadata": {},
     "outputs": [
      {
       "output_type": "stream",
       "stream": "stdout",
       "text": [
        "{'a': 'alpha', 'b': 'beta', 'o': 'omega', 'g': 'gamma'}\n"
       ]
      }
     ],
     "prompt_number": 4
    },
    {
     "cell_type": "code",
     "collapsed": false,
     "input": [
      "for item in my_dict:\n",
      "    print item,"
     ],
     "language": "python",
     "metadata": {},
     "outputs": [
      {
       "output_type": "stream",
       "stream": "stdout",
       "text": [
        "a b o g\n"
       ]
      }
     ],
     "prompt_number": 6
    },
    {
     "cell_type": "code",
     "collapsed": false,
     "input": [
      "if 'b' in my_dict:\n",
      "    print 'true: ',\n",
      "    print my_dict['b']"
     ],
     "language": "python",
     "metadata": {},
     "outputs": [
      {
       "output_type": "stream",
       "stream": "stdout",
       "text": [
        "true:  beta\n"
       ]
      }
     ],
     "prompt_number": 8
    },
    {
     "cell_type": "code",
     "collapsed": false,
     "input": [],
     "language": "python",
     "metadata": {},
     "outputs": []
    }
   ],
   "metadata": {}
  }
 ]
}