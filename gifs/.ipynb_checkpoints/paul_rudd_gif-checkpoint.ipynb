{
 "metadata": {
  "name": "",
  "signature": "sha256:b0b3f0a4878a85245b2fcada949025b552c518424f4f9a759bca064609cb8159"
 },
 "nbformat": 3,
 "nbformat_minor": 0,
 "worksheets": [
  {
   "cells": [
    {
     "cell_type": "code",
     "collapsed": false,
     "input": [
      "from moviepy.editor import *\n",
      "\n",
      "def time_symmetrize(clip):\n",
      "    \"\"\" Returns the clip played forwards then backwards. In case\n",
      "    you are wondering, vfx (short for Video FX) is loaded by\n",
      "    >>> from moviepy.editor import * \"\"\"\n",
      "    return concatenate([clip, clip.fx( vfx.time_mirror )])\n",
      "\n",
      "\n",
      "clip = (VideoFileClip(\"Paul_Rudd_s_Computer.mp4\")\n",
      "        .subclip((1,4.35),(1,5.6))\n",
      "        .resize(0.7)\n",
      "        .fx(time_symmetrize))\n",
      "\n",
      "#ipython_display(clip, width=240)\n",
      "clip.write_gif('tayne.gif')"
     ],
     "language": "python",
     "metadata": {},
     "outputs": [
      {
       "output_type": "stream",
       "stream": "stdout",
       "text": [
        "\r",
        "|----------| 0/56   0% [elapsed: 00:00 left: ?, ? iters/sec]"
       ]
      },
      {
       "output_type": "stream",
       "stream": "stdout",
       "text": [
        "\r",
        "                                                            "
       ]
      },
      {
       "output_type": "stream",
       "stream": "stdout",
       "text": [
        "\r",
        "\r",
        "|----------| 0/75   0% [elapsed: 00:00 left: ?, ? iters/sec]"
       ]
      },
      {
       "output_type": "stream",
       "stream": "stdout",
       "text": [
        "\r",
        "|##--------| 20/75  26% [elapsed: 00:00 left: 00:01, 38.25 iters/sec]"
       ]
      },
      {
       "output_type": "stream",
       "stream": "stdout",
       "text": [
        "\r",
        "|#####-----| 40/75  53% [elapsed: 00:01 left: 00:00, 35.65 iters/sec]"
       ]
      },
      {
       "output_type": "stream",
       "stream": "stdout",
       "text": [
        "\r",
        "|######----| 45/75  60% [elapsed: 00:01 left: 00:01, 27.54 iters/sec]"
       ]
      },
      {
       "output_type": "stream",
       "stream": "stdout",
       "text": [
        "\r",
        "|######----| 50/75  66% [elapsed: 00:02 left: 00:01, 23.17 iters/sec]"
       ]
      },
      {
       "output_type": "stream",
       "stream": "stdout",
       "text": [
        "\r",
        "|#######---| 55/75  73% [elapsed: 00:02 left: 00:01, 19.79 iters/sec]"
       ]
      },
      {
       "output_type": "stream",
       "stream": "stdout",
       "text": [
        "\r",
        "|#######---| 59/75  78% [elapsed: 00:03 left: 00:00, 17.86 iters/sec]"
       ]
      },
      {
       "output_type": "stream",
       "stream": "stdout",
       "text": [
        "\r",
        "|########--| 63/75  84% [elapsed: 00:03 left: 00:00, 16.56 iters/sec]"
       ]
      },
      {
       "output_type": "stream",
       "stream": "stdout",
       "text": [
        "\r",
        "|########--| 67/75  89% [elapsed: 00:04 left: 00:00, 15.48 iters/sec]"
       ]
      },
      {
       "output_type": "stream",
       "stream": "stdout",
       "text": [
        "\r",
        "|#########-| 72/75  96% [elapsed: 00:04 left: 00:00, 14.54 iters/sec]"
       ]
      },
      {
       "output_type": "stream",
       "stream": "stdout",
       "text": [
        "\r",
        "                                                                     "
       ]
      },
      {
       "output_type": "stream",
       "stream": "stdout",
       "text": [
        "\r\n",
        "[MoviePy] Building file tayne.gif with imageio\n"
       ]
      },
      {
       "output_type": "stream",
       "stream": "stdout",
       "text": [
        "\r",
        "|----------| 0/75   0% [elapsed: 00:00 left: ?, ? iters/sec]"
       ]
      },
      {
       "output_type": "stream",
       "stream": "stdout",
       "text": [
        "\r",
        "|#---------| 11/75  14% [elapsed: 00:00 left: 00:02, 21.57 iters/sec]"
       ]
      },
      {
       "output_type": "stream",
       "stream": "stdout",
       "text": [
        "\r",
        "|###-------| 26/75  34% [elapsed: 00:01 left: 00:01, 24.96 iters/sec]"
       ]
      },
      {
       "output_type": "stream",
       "stream": "stdout",
       "text": [
        "\r",
        "|#####-----| 40/75  53% [elapsed: 00:01 left: 00:01, 24.98 iters/sec]"
       ]
      },
      {
       "output_type": "stream",
       "stream": "stdout",
       "text": [
        "\r",
        "|######----| 45/75  60% [elapsed: 00:02 left: 00:01, 20.89 iters/sec]"
       ]
      },
      {
       "output_type": "stream",
       "stream": "stdout",
       "text": [
        "\r",
        "|######----| 50/75  66% [elapsed: 00:02 left: 00:01, 18.61 iters/sec]"
       ]
      },
      {
       "output_type": "stream",
       "stream": "stdout",
       "text": [
        "\r",
        "|#######---| 54/75  72% [elapsed: 00:03 left: 00:01, 16.72 iters/sec]"
       ]
      },
      {
       "output_type": "stream",
       "stream": "stdout",
       "text": [
        "\r",
        "|#######---| 57/75  76% [elapsed: 00:03 left: 00:01, 15.27 iters/sec]"
       ]
      },
      {
       "output_type": "stream",
       "stream": "stdout",
       "text": [
        "\r",
        "|########--| 61/75  81% [elapsed: 00:04 left: 00:00, 14.21 iters/sec]"
       ]
      },
      {
       "output_type": "stream",
       "stream": "stdout",
       "text": [
        "\r",
        "|########--| 65/75  86% [elapsed: 00:04 left: 00:00, 13.45 iters/sec]"
       ]
      },
      {
       "output_type": "stream",
       "stream": "stdout",
       "text": [
        "\r",
        "|#########-| 69/75  92% [elapsed: 00:05 left: 00:00, 12.84 iters/sec]"
       ]
      },
      {
       "output_type": "stream",
       "stream": "stdout",
       "text": [
        "\r",
        "|#########-| 73/75  97% [elapsed: 00:05 left: 00:00, 12.40 iters/sec]"
       ]
      },
      {
       "output_type": "stream",
       "stream": "stdout",
       "text": [
        "\r",
        "                                                                     "
       ]
      },
      {
       "output_type": "stream",
       "stream": "stdout",
       "text": [
        "\r"
       ]
      }
     ],
     "prompt_number": 14
    },
    {
     "cell_type": "code",
     "collapsed": false,
     "input": [],
     "language": "python",
     "metadata": {},
     "outputs": []
    }
   ],
   "metadata": {}
  }
 ]
}