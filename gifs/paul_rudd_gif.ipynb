{
 "metadata": {
  "name": "",
  "signature": "sha256:74af840bc930275338c3eda8e84d6d61803cf7fd7157778d71f7baa121d7f79b"
 },
 "nbformat": 3,
 "nbformat_minor": 0,
 "worksheets": [
  {
   "cells": [
    {
     "cell_type": "code",
     "collapsed": false,
     "input": [
      "from moviepy.editor import *\n",
      "\n",
      "def time_symmetrize(clip):\n",
      "    \"\"\" Returns the clip played forwards then backwards. In case\n",
      "    you are wondering, vfx (short for Video FX) is loaded by\n",
      "    >>> from moviepy.editor import * \"\"\"\n",
      "    return concatenate([clip, clip.fx( vfx.time_mirror )])\n",
      "\n",
      "\n",
      "clip = (VideoFileClip(\"Paul_Rudd_s_Computer.mp4\")\n",
      "        .subclip((1,4.35),(1,5.6))\n",
      "        .resize(0.7)\n",
      "        .fx(time_symmetrize))\n",
      "\n",
      "#ipython_display(clip, width=240)\n",
      "clip.write_gif('tayne.gif')"
     ],
     "language": "python",
     "metadata": {},
     "outputs": [
      {
       "output_type": "stream",
       "stream": "stdout",
       "text": [
        "\n",
        "[MoviePy] Building file tayne.gif with imageio\n"
       ]
      },
      {
       "output_type": "stream",
       "stream": "stdout",
       "text": [
        "\r",
        "|----------| 0/75   0% [elapsed: 00:00 left: ?, ? iters/sec]"
       ]
      },
      {
       "output_type": "stream",
       "stream": "stdout",
       "text": [
        "\r",
        "|#---------| 8/75  10% [elapsed: 00:00 left: 00:04, 15.97 iters/sec]"
       ]
      },
      {
       "output_type": "stream",
       "stream": "stdout",
       "text": [
        "\r",
        "|##--------| 17/75  22% [elapsed: 00:01 left: 00:03, 16.04 iters/sec]"
       ]
      },
      {
       "output_type": "stream",
       "stream": "stdout",
       "text": [
        "\r",
        "|###-------| 26/75  34% [elapsed: 00:01 left: 00:03, 16.08 iters/sec]"
       ]
      },
      {
       "output_type": "stream",
       "stream": "stdout",
       "text": [
        "\r",
        "|####------| 34/75  45% [elapsed: 00:02 left: 00:02, 16.05 iters/sec]"
       ]
      },
      {
       "output_type": "stream",
       "stream": "stdout",
       "text": [
        "\r",
        "|#####-----| 41/75  54% [elapsed: 00:02 left: 00:02, 15.16 iters/sec]"
       ]
      },
      {
       "output_type": "stream",
       "stream": "stdout",
       "text": [
        "\r",
        "|######----| 45/75  60% [elapsed: 00:03 left: 00:02, 13.83 iters/sec]"
       ]
      },
      {
       "output_type": "stream",
       "stream": "stdout",
       "text": [
        "\r",
        "|######----| 49/75  65% [elapsed: 00:03 left: 00:02, 12.88 iters/sec]"
       ]
      },
      {
       "output_type": "stream",
       "stream": "stdout",
       "text": [
        "\r",
        "|#######---| 53/75  70% [elapsed: 00:04 left: 00:01, 12.04 iters/sec]"
       ]
      },
      {
       "output_type": "stream",
       "stream": "stdout",
       "text": [
        "\r",
        "|#######---| 56/75  74% [elapsed: 00:04 left: 00:01, 11.39 iters/sec]"
       ]
      },
      {
       "output_type": "stream",
       "stream": "stdout",
       "text": [
        "\r",
        "|########--| 60/75  80% [elapsed: 00:05 left: 00:01, 10.75 iters/sec]"
       ]
      },
      {
       "output_type": "stream",
       "stream": "stdout",
       "text": [
        "\r",
        "|########--| 64/75  85% [elapsed: 00:06 left: 00:01, 10.26 iters/sec]"
       ]
      },
      {
       "output_type": "stream",
       "stream": "stdout",
       "text": [
        "\r",
        "|#########-| 68/75  90% [elapsed: 00:06 left: 00:00,  9.87 iters/sec]"
       ]
      },
      {
       "output_type": "stream",
       "stream": "stdout",
       "text": [
        "\r",
        "|#########-| 72/75  96% [elapsed: 00:07 left: 00:00,  9.57 iters/sec]"
       ]
      },
      {
       "output_type": "stream",
       "stream": "stdout",
       "text": [
        "\r",
        "                                                                     "
       ]
      },
      {
       "output_type": "stream",
       "stream": "stdout",
       "text": [
        "\r"
       ]
      }
     ],
     "prompt_number": 15
    },
    {
     "cell_type": "code",
     "collapsed": false,
     "input": [],
     "language": "python",
     "metadata": {},
     "outputs": []
    }
   ],
   "metadata": {}
  }
 ]
}