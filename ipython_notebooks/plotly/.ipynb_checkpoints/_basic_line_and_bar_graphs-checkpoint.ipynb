{
 "metadata": {
  "name": ""
 },
 "nbformat": 3,
 "nbformat_minor": 0,
 "worksheets": [
  {
   "cells": [
    {
     "cell_type": "heading",
     "level": 1,
     "metadata": {},
     "source": [
      "Basic Plotly"
     ]
    },
    {
     "cell_type": "markdown",
     "metadata": {},
     "source": [
      "This notebook documents my work as I walked through the [Users Guide](https://plot.ly/python/overview/) on Plotly's website."
     ]
    },
    {
     "cell_type": "heading",
     "level": 2,
     "metadata": {},
     "source": [
      "Getting Started"
     ]
    },
    {
     "cell_type": "code",
     "collapsed": false,
     "input": [
      "import plotly\n",
      "import plotly.plotly as py\n",
      "import plotly.tools as tls\n",
      "from plotly.graph_objs import *\n",
      "\n",
      "# Check version\n",
      "print \"Current version of plotly: %s\" % plotly.__version__\n"
     ],
     "language": "python",
     "metadata": {},
     "outputs": [
      {
       "output_type": "stream",
       "stream": "stdout",
       "text": [
        "Current version of plotly: 1.6.10\n"
       ]
      }
     ],
     "prompt_number": 2
    },
    {
     "cell_type": "heading",
     "level": 2,
     "metadata": {},
     "source": [
      "Graph 1 - Basic line"
     ]
    },
    {
     "cell_type": "code",
     "collapsed": false,
     "input": [
      "# (1) Two lists of numbers\n",
      "x1 = [1, 2, 3, 4, 5]\n",
      "y1 = [1, 4.5, 8.9, 0, -1]\n",
      "\n",
      "# (2) Make dict linking x and y coordinate lists to 'x' and 'y' keys\n",
      "trace1 = dict(x=x1, y=y1)\n",
      "\n",
      "# (3) Make list of 1 trace, to be sent to Plotly\n",
      "data = [trace1]\n",
      "\n",
      "# (4) Call the plot() function of the plotly.plotly submodule; send figure to Plotly.\n",
      "# Note auto_open prevents new tab from opening\n",
      "py.plot(data, filename='s0_first_plot', auto_open=False)"
     ],
     "language": "python",
     "metadata": {},
     "outputs": [
      {
       "metadata": {},
       "output_type": "pyout",
       "prompt_number": 3,
       "text": [
        "u'https://plot.ly/~kbarre123/107'"
       ]
      }
     ],
     "prompt_number": 3
    },
    {
     "cell_type": "code",
     "collapsed": false,
     "input": [
      "# To embed the graph here instead of on Plotly, change 'plot()' to 'iplot()'\n",
      "py.iplot(data, filename='s0_first_plot')"
     ],
     "language": "python",
     "metadata": {},
     "outputs": [
      {
       "html": [
        "<iframe id=\"igraph\" scrolling=\"no\" style=\"border:none;\"seamless=\"seamless\" src=\"https://plot.ly/~kbarre123/107.embed\" height=\"525\" width=\"100%\"></iframe>"
       ],
       "metadata": {},
       "output_type": "pyout",
       "prompt_number": 4,
       "text": [
        "<plotly.tools.PlotlyDisplay at 0xb1619dcc>"
       ]
      }
     ],
     "prompt_number": 4
    },
    {
     "cell_type": "heading",
     "level": 2,
     "metadata": {},
     "source": [
      "Graph 2 - Add scatter plot"
     ]
    },
    {
     "cell_type": "code",
     "collapsed": false,
     "input": [
      "# Make three lists of numbers\n",
      "x = [1, 2, 3, 5, 6]\n",
      "y1= [1, 4.5, 7, 24, 38]\n",
      "y2 = [1, 4, 9, 25, 36]\n",
      "\n",
      "# (1.1) Make 1st Scatter object\n",
      "trace1 = Scatter(\n",
      "    x=x, # x-coords of trace\n",
      "    y=y1, # y-coords of trace\n",
      "    mode='markers' # scatter mode\n",
      ")\n",
      "\n",
      "# (1.2) Make 2nd Scatter object\n",
      "trace2 = Scatter(\n",
      "    x=x,\n",
      "    y=y2,\n",
      "    mode='lines' # different mode from trace1\n",
      ")\n",
      "\n",
      "# (2) Make a Data object. Data is always a list!\n",
      "data = Data([trace1, trace2])\n",
      "\n",
      "# (3) Make a Layout object. Layout is always a dict!\n",
      "layout = Layout(title=\"Fig 0.3: Some Experiment\")\n",
      "\n",
      "# (4) Make a Figure object. Figure is always a dict!\n",
      "fig = Figure(data=data, layout=layout)\n",
      "\n",
      "# (5.1) Check out the Figure structure\n",
      "print(fig.to_string())"
     ],
     "language": "python",
     "metadata": {},
     "outputs": [
      {
       "output_type": "stream",
       "stream": "stdout",
       "text": [
        "Figure(\n",
        "    data=Data([\n",
        "        Scatter(\n",
        "            x=[1, 2, 3, 5, 6],\n",
        "            y=[1, 4.5, 7, 24, 38],\n",
        "            mode='markers'\n",
        "        ),\n",
        "        Scatter(\n",
        "            x=[1, 2, 3, 5, 6],\n",
        "            y=[1, 4, 9, 25, 36],\n",
        "            mode='lines'\n",
        "        )\n",
        "    ]),\n",
        "    layout=Layout(\n",
        "        title='Fig 0.3: Some Experiment'\n",
        "    )\n",
        ")\n"
       ]
      }
     ],
     "prompt_number": 7
    },
    {
     "cell_type": "code",
     "collapsed": false,
     "input": [
      "# (5.2) Print the Figure\n",
      "py.iplot(fig, filename='s0_second-plot')"
     ],
     "language": "python",
     "metadata": {},
     "outputs": [
      {
       "html": [
        "<iframe id=\"igraph\" scrolling=\"no\" style=\"border:none;\"seamless=\"seamless\" src=\"https://plot.ly/~kbarre123/110.embed\" height=\"525\" width=\"100%\"></iframe>"
       ],
       "metadata": {},
       "output_type": "pyout",
       "prompt_number": 8,
       "text": [
        "<plotly.tools.PlotlyDisplay at 0xb16cd48c>"
       ]
      }
     ],
     "prompt_number": 8
    },
    {
     "cell_type": "heading",
     "level": 2,
     "metadata": {},
     "source": [
      "Graph 3 - Add axis titles"
     ]
    },
    {
     "cell_type": "code",
     "collapsed": false,
     "input": [
      "# (6.1) Make an XAxis object, add title key\n",
      "xaxis = XAxis(title='Some independent variable')\n",
      "\n",
      "# (6.2) Make YAxis object, add title key\n",
      "yaxis = YAxis(title='Some dependent variable')\n",
      "\n",
      "# (7) Update 'layout' key in the Figure object\n",
      "fig['layout'].update(\n",
      "    xaxis1=xaxis,\n",
      "    yaxis1=yaxis\n",
      ")\n",
      "\n",
      "print(fig.to_string())"
     ],
     "language": "python",
     "metadata": {},
     "outputs": [
      {
       "output_type": "stream",
       "stream": "stdout",
       "text": [
        "Figure(\n",
        "    data=Data([\n",
        "        Scatter(\n",
        "            x=[1, 2, 3, 5, 6],\n",
        "            y=[1, 4.5, 7, 24, 38],\n",
        "            mode='markers'\n",
        "        ),\n",
        "        Scatter(\n",
        "            x=[1, 2, 3, 5, 6],\n",
        "            y=[1, 4, 9, 25, 36],\n",
        "            mode='lines'\n",
        "        )\n",
        "    ]),\n",
        "    layout=Layout(\n",
        "        title='Fig 0.3: Some Experiment',\n",
        "        xaxis1=XAxis(\n",
        "            title='Some independent variable'\n",
        "        ),\n",
        "        yaxis1=YAxis(\n",
        "            title='Some dependent variable'\n",
        "        )\n",
        "    )\n",
        ")\n"
       ]
      }
     ],
     "prompt_number": 9
    },
    {
     "cell_type": "code",
     "collapsed": false,
     "input": [
      "py.iplot(fig, filename='s0_second-plot-axis-titles')"
     ],
     "language": "python",
     "metadata": {},
     "outputs": [
      {
       "html": [
        "<iframe id=\"igraph\" scrolling=\"no\" style=\"border:none;\"seamless=\"seamless\" src=\"https://plot.ly/~kbarre123/111.embed\" height=\"525\" width=\"100%\"></iframe>"
       ],
       "metadata": {},
       "output_type": "pyout",
       "prompt_number": 10,
       "text": [
        "<plotly.tools.PlotlyDisplay at 0xb16cd46c>"
       ]
      }
     ],
     "prompt_number": 10
    },
    {
     "cell_type": "heading",
     "level": 2,
     "metadata": {},
     "source": [
      "Graph 4 - Save as png"
     ]
    },
    {
     "cell_type": "code",
     "collapsed": false,
     "input": [
      "# Trace\n",
      "trace1 = Bar(\n",
      "    x=['cats', 'dogs', 'monkeys'],\n",
      "    y=[1, 2, 7]\n",
      ")\n",
      "# Data\n",
      "data = Data([trace1])\n",
      "\n",
      "# Layout\n",
      "xaxis = XAxis(title='Pet Type')\n",
      "yaxis = YAxis(title='Number of Pets')\n",
      "layout = Layout(\n",
      "    title=\"Pet Forcast for 2016\",\n",
      "    xaxis = xaxis,\n",
      "    yaxis = yaxis\n",
      ")\n",
      "\n",
      "# Figure\n",
      "fig = Figure(data=data, layout=layout)\n",
      "\n",
      "# Print\n",
      "py.iplot(fig, filename='number_of_desired_pets')"
     ],
     "language": "python",
     "metadata": {},
     "outputs": [
      {
       "html": [
        "<iframe id=\"igraph\" scrolling=\"no\" style=\"border:none;\"seamless=\"seamless\" src=\"https://plot.ly/~kbarre123/116.embed\" height=\"525\" width=\"100%\"></iframe>"
       ],
       "metadata": {},
       "output_type": "pyout",
       "prompt_number": 21,
       "text": [
        "<plotly.tools.PlotlyDisplay at 0xb163ebac>"
       ]
      }
     ],
     "prompt_number": 21
    },
    {
     "cell_type": "code",
     "collapsed": false,
     "input": [],
     "language": "python",
     "metadata": {},
     "outputs": []
    }
   ],
   "metadata": {}
  }
 ]
}