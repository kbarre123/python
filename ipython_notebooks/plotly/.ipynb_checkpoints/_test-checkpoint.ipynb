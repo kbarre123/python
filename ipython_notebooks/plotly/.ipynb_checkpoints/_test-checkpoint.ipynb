{
 "metadata": {
  "name": "",
  "signature": "sha256:efe19d04514acbba12b791c88defe79cff62ba9067393bcc8c349160b030678a"
 },
 "nbformat": 3,
 "nbformat_minor": 0,
 "worksheets": [
  {
   "cells": [
    {
     "cell_type": "code",
     "collapsed": false,
     "input": [
      "import plotly.plotly as py\n",
      "from plotly.graph_objs import *\n",
      "\n",
      "trace0 = Scatter(\n",
      "    x=[1, 2, 3, 4],\n",
      "    y=[10, 15, 13, 17]\n",
      ")\n",
      "trace1 = Scatter(\n",
      "    x=[1, 2, 3, 4],\n",
      "    y=[16, 5, 11, 9]\n",
      ")\n",
      "data = Data([trace0, trace1])\n",
      "\n",
      "unique_url = py.plot(data, filename = 'basic-line')"
     ],
     "language": "python",
     "metadata": {},
     "outputs": [],
     "prompt_number": 1
    },
    {
     "cell_type": "code",
     "collapsed": false,
     "input": [],
     "language": "python",
     "metadata": {},
     "outputs": []
    }
   ],
   "metadata": {}
  }
 ]
}