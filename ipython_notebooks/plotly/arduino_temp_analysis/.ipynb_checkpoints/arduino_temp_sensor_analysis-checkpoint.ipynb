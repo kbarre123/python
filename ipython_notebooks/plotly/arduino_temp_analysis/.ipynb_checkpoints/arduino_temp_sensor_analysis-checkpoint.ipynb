{
 "metadata": {
  "name": ""
 },
 "nbformat": 3,
 "nbformat_minor": 0,
 "worksheets": [
  {
   "cells": [
    {
     "cell_type": "heading",
     "level": 1,
     "metadata": {},
     "source": [
      "Analysis of DS18B20 Sensors"
     ]
    },
    {
     "cell_type": "markdown",
     "metadata": {},
     "source": [
      "I wrote a [blog post](http://kbarre123.github.io/blog/2015/01/06/temp-sensor-analysis/) a few months back analyzing the DS18B20 waterproof temperature sensors that I'm using, along with an Arduino, to monitor temperatures during our beer brewing process. In the original post, I used embedded charts that I created using LibreOffice (or Gnumeric, I don't recall). The charts just .png files and are pretty much terrible. In this notebook, I will recreate those charts using [plot.ly](https://plot.ly) and expect them to be much better. "
     ]
    },
    {
     "cell_type": "heading",
     "level": 2,
     "metadata": {},
     "source": [
      "Prepare the Data"
     ]
    },
    {
     "cell_type": "markdown",
     "metadata": {},
     "source": [
      "The data was saved in a text file, one reading per line. We need to read in the data from the text files and store in a list. There will be one list for each data file. We'll also have to count the number of data points from the largest list so we can have an array for out 'time' accross the x axis. The temp readings will be plotted along the y axis against the time on the x axis."
     ]
    },
    {
     "cell_type": "code",
     "collapsed": false,
     "input": [
      "# (*) To communicate with Plotly's server, sign in with credentials file\n",
      "import plotly.plotly as py  \n",
      "\n",
      "# (*) Useful Python/Plotly tools\n",
      "import plotly.tools as tls   \n",
      "\n",
      "# (*) Graph objects to piece together plots\n",
      "from plotly.graph_objs import *\n",
      "\n",
      "import numpy as np  # (*) numpy for math functions and arrays\n",
      "\n",
      "# Define a file reader function\n",
      "def read_data(file_name):\n",
      "    '''\n",
      "    Read row of data file, return a numpy array\n",
      "    pos. arg (1) filepath: relative path to data file\n",
      "    '''\n",
      "    with open(file_name, 'r') as f:\n",
      "        #return np.array([float(x) for x in row])\n",
      "        return np.array([float(x.strip('\\n')) for x in f.readlines()])\n",
      "\n",
      "# Read data in (will be plotted along the X axis)\n",
      "data_sensor_A = read_data('data/amb_sensor_A.txt')\n",
      "data_sensor_B = read_data('data/amb_sensor_B.txt')\n",
      "\n",
      "# Define a function to calculate the length of time data was collected\n",
      "def get_seconds(data_array):\n",
      "    seconds = []\n",
      "    for i in range(0, len(data_array)):\n",
      "        seconds.append(i)\n",
      "    return seconds\n",
      "\n",
      "# Calculate length of time data was collected (used Sensor B b/c it was longer than A)\n",
      "seconds = get_seconds(data_sensor_B)"
     ],
     "language": "python",
     "metadata": {},
     "outputs": [],
     "prompt_number": 44
    },
    {
     "cell_type": "heading",
     "level": 2,
     "metadata": {},
     "source": [
      "Construct the Graph"
     ]
    },
    {
     "cell_type": "markdown",
     "metadata": {},
     "source": [
      "Now that our data is prepared the way we want it, we can begin to construct the graph. The general steps are as follows:\n",
      "\n",
      "* Trace\n",
      "* Data\n",
      "* Layout\n",
      "* Figure\n",
      "* Display"
     ]
    },
    {
     "cell_type": "heading",
     "level": 3,
     "metadata": {},
     "source": [
      "Trace"
     ]
    },
    {
     "cell_type": "code",
     "collapsed": false,
     "input": [
      "trace0 = Scatter(\n",
      "    x=seconds,\n",
      "    y=data_sensor_A,\n",
      "    mode='lines'\n",
      ")\n",
      "\n",
      "trace1 = Scatter(\n",
      "    x=seconds,\n",
      "    y=data_sensor_B,\n",
      "    mode='lines'\n",
      ")"
     ],
     "language": "python",
     "metadata": {},
     "outputs": [],
     "prompt_number": 45
    },
    {
     "cell_type": "heading",
     "level": 3,
     "metadata": {},
     "source": [
      "Data"
     ]
    },
    {
     "cell_type": "code",
     "collapsed": false,
     "input": [
      "data = Data([trace0, trace1])"
     ],
     "language": "python",
     "metadata": {},
     "outputs": [],
     "prompt_number": 46
    },
    {
     "cell_type": "heading",
     "level": 3,
     "metadata": {},
     "source": [
      "Layout"
     ]
    },
    {
     "cell_type": "code",
     "collapsed": false,
     "input": [
      "xaxis = XAxis(title='Seconds')\n",
      "yaxis = YAxis(title='Temperature (*F)')\n",
      "layout = Layout(\n",
      "    title='DS18B20 Temp Sensor Data',\n",
      "    xaxis1=xaxis,\n",
      "    yaxis = yaxis\n",
      ")"
     ],
     "language": "python",
     "metadata": {},
     "outputs": [],
     "prompt_number": 48
    },
    {
     "cell_type": "heading",
     "level": 3,
     "metadata": {},
     "source": [
      "Figure"
     ]
    },
    {
     "cell_type": "code",
     "collapsed": false,
     "input": [
      "fig = Figure(data=data, layout=layout)\n",
      "print(fig.to_string())"
     ],
     "language": "python",
     "metadata": {},
     "outputs": [
      {
       "output_type": "stream",
       "stream": "stdout",
       "text": [
        "Figure(\n",
        "    data=Data([\n",
        "        Scatter(\n",
        "            x=[0, 1, 2, 3, 4, 5, 6, 7, 8, 9, 10, 11, 12, 13, 14, 15, 16, ..  ],\n",
        "            y=array([ 77.,  77.,  77., ...,  77.,  77.,  77.]),\n",
        "            mode='lines'\n",
        "        ),\n",
        "        Scatter(\n",
        "            x=[0, 1, 2, 3, 4, 5, 6, 7, 8, 9, 10, 11, 12, 13, 14, 15, 16, ..  ],\n",
        "            y=array([ 75.65,  75.65,  75.65, ...,  75.65,  75.65,  75.65]),\n",
        "            mode='lines'\n",
        "        )\n",
        "    ]),\n",
        "    layout=Layout(\n",
        "        title='Temp Sensor Data',\n",
        "        yaxis=YAxis(\n",
        "            title='Temperature (*F)'\n",
        "        ),\n",
        "        xaxis1=XAxis(\n",
        "            title='Seconds'\n",
        "        )\n",
        "    )\n",
        ")\n"
       ]
      }
     ],
     "prompt_number": 49
    },
    {
     "cell_type": "heading",
     "level": 3,
     "metadata": {},
     "source": [
      "Display"
     ]
    },
    {
     "cell_type": "code",
     "collapsed": false,
     "input": [
      "py.iplot(fig, filename='DS18B20 Temp Sensor Data')"
     ],
     "language": "python",
     "metadata": {},
     "outputs": [
      {
       "html": [
        "<iframe id=\"igraph\" scrolling=\"no\" style=\"border:none;\"seamless=\"seamless\" src=\"https://plot.ly/~kbarre123/153.embed\" height=\"525\" width=\"100%\"></iframe>"
       ],
       "metadata": {},
       "output_type": "pyout",
       "prompt_number": 50,
       "text": [
        "<plotly.tools.PlotlyDisplay at 0xb17aca0c>"
       ]
      }
     ],
     "prompt_number": 50
    },
    {
     "cell_type": "code",
     "collapsed": false,
     "input": [],
     "language": "python",
     "metadata": {},
     "outputs": []
    }
   ],
   "metadata": {}
  }
 ]
}