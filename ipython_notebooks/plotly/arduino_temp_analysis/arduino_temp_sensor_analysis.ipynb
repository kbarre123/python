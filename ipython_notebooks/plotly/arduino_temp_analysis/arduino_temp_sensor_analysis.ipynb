{
 "metadata": {
  "name": ""
 },
 "nbformat": 3,
 "nbformat_minor": 0,
 "worksheets": [
  {
   "cells": [
    {
     "cell_type": "heading",
     "level": 1,
     "metadata": {},
     "source": [
      "Analysis of DS18B20 Sensors"
     ]
    },
    {
     "cell_type": "markdown",
     "metadata": {},
     "source": [
      "I wrote a [blog post](http://kbarre123.github.io/blog/2015/01/06/temp-sensor-analysis/) a few months back analyzing the DS18B20 waterproof temperature sensors that I'm using, along with an Arduino, to monitor temperatures during our beer brewing process. In the original post, I used embedded charts that I created using LibreOffice (or Gnumeric, I don't recall). The charts just .png files and are pretty much terrible. In this notebook, I will recreate those charts using [plot.ly](https://plot.ly) and expect them to be much better. "
     ]
    },
    {
     "cell_type": "code",
     "collapsed": false,
     "input": [],
     "language": "python",
     "metadata": {},
     "outputs": []
    }
   ],
   "metadata": {}
  }
 ]
}