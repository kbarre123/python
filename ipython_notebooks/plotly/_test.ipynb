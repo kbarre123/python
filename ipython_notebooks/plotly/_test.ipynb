{
 "metadata": {
  "name": "",
  "signature": "sha256:a4978976f6801be1c634b314ac6275eac980b180495f5d2ef8bb025b1f35db70"
 },
 "nbformat": 3,
 "nbformat_minor": 0,
 "worksheets": [
  {
   "cells": [
    {
     "cell_type": "code",
     "collapsed": false,
     "input": [],
     "language": "python",
     "metadata": {},
     "outputs": []
    }
   ],
   "metadata": {}
  }
 ]
}