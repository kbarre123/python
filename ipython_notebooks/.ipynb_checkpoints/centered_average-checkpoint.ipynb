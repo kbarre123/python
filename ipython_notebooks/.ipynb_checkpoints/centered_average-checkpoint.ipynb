{
 "metadata": {
  "name": "",
  "signature": "sha256:5e25771ba579b528b68374ce69bc07215941fe176c3e0c5f914a383a87aa8b88"
 },
 "nbformat": 3,
 "nbformat_minor": 0,
 "worksheets": [
  {
   "cells": [
    {
     "cell_type": "heading",
     "level": 1,
     "metadata": {},
     "source": [
      "centered_average"
     ]
    },
    {
     "cell_type": "markdown",
     "metadata": {},
     "source": [
      "Return the \"centered\" average of an array of ints, which we'll say is the mean average of the values, except ignoring the largest and smallest values in the array. If there are multiple copies of the smallest value, ignore just one copy, and likewise for the largest value. Use int division to produce the final average. You may assume that the array is length 3 or more.\n",
      "\n",
      "centered_average([1, 2, 3, 4, 100]) \u2192 3<br>\n",
      "centered_average([1, 1, 5, 5, 10, 8, 7]) \u2192 5<br>\n",
      "centered_average([-10, -4, -2, -4, -2, 0]) \u2192 -3<br>"
     ]
    },
    {
     "cell_type": "heading",
     "level": 4,
     "metadata": {},
     "source": [
      "Pseudo-code"
     ]
    },
    {
     "cell_type": "code",
     "collapsed": false,
     "input": [
      "# iterate through list, finding smallest & largest items in list\n",
      "# sum items\n",
      "# reduce sum by smallest/largest items\n",
      "# reduce denominator by 2 (to account for removing one of the smallest/largest items)\n",
      "# calc and return the avg"
     ],
     "language": "python",
     "metadata": {},
     "outputs": [],
     "prompt_number": 21
    },
    {
     "cell_type": "heading",
     "level": 4,
     "metadata": {},
     "source": [
      "Function Definition"
     ]
    },
    {
     "cell_type": "code",
     "collapsed": false,
     "input": [
      "def centered_average(nums): \n",
      "    smallest = nums[0]    # smallest item\n",
      "    largest = nums[0]     # largest item\n",
      "    sum_nums = 0          # sum of the items; to be reduced by smallest/largest item before calc of avg\n",
      "    adj_sum_nums = 0      # sum less smallest/largest items\n",
      "    adj_denom = 0         # denominator less 2 (smallest/largest items)\n",
      "    avg = 0               # avg of adjusted sum_nums\n",
      "    \n",
      "    # iterate through list, finding smallest & largest items in list\n",
      "    for i in range(len(nums)):\n",
      "        smallest = min(smallest, nums[i])\n",
      "        largest = max(largest, nums[i])\n",
      "                \n",
      "    # sum of items\n",
      "    for num in nums:\n",
      "        sum_nums += num\n",
      "    \n",
      "    # sum less smallest/largest\n",
      "    adj_sum_nums = sum_nums - smallest - largest\n",
      "    \n",
      "    # calc adjusted denominator\n",
      "    adj_denom = len(nums) - 2\n",
      "    \n",
      "    # calc average\n",
      "    avg = adj_sum_nums / adj_denom\n",
      "    \n",
      "    #print \"\" #debug\n",
      "    #print \"smallest: \" + str(smallest) + \"\\t\" + \"smallest_count: \" + str(smallest_count) #debug\n",
      "    #print \"largest: \" + str(largest)  + \"\\t\" + \"largest_count: \" + str(largest_count) #debug\n",
      "    \n",
      "    #print \"\" #debug\n",
      "        \n",
      "    print \"avg: \" + str(avg) #debug\n",
      "    return avg"
     ],
     "language": "python",
     "metadata": {},
     "outputs": [],
     "prompt_number": 1
    },
    {
     "cell_type": "heading",
     "level": 4,
     "metadata": {},
     "source": [
      "Test Data"
     ]
    },
    {
     "cell_type": "code",
     "collapsed": false,
     "input": [
      "nums = [-10, -4, -2, -4, -2, 0]\n",
      "ans = -3\n",
      "\n",
      "def check():\n",
      "    return my_ans == ans"
     ],
     "language": "python",
     "metadata": {},
     "outputs": [],
     "prompt_number": 6
    },
    {
     "cell_type": "heading",
     "level": 4,
     "metadata": {},
     "source": [
      "Test Answer"
     ]
    },
    {
     "cell_type": "code",
     "collapsed": false,
     "input": [
      "my_ans = centered_average(nums)\n",
      "check()"
     ],
     "language": "python",
     "metadata": {},
     "outputs": [
      {
       "output_type": "stream",
       "stream": "stdout",
       "text": [
        "avg: -3\n"
       ]
      },
      {
       "metadata": {},
       "output_type": "pyout",
       "prompt_number": 7,
       "text": [
        "True"
       ]
      }
     ],
     "prompt_number": 7
    }
   ],
   "metadata": {}
  }
 ]
}