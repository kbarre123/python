{
 "metadata": {
  "name": "",
  "signature": "sha256:eb2d96503a4c5b233502137122299715d9c254b8732c0b95f11816837668c49f"
 },
 "nbformat": 3,
 "nbformat_minor": 0,
 "worksheets": [
  {
   "cells": [
    {
     "cell_type": "heading",
     "level": 1,
     "metadata": {},
     "source": [
      "sum13"
     ]
    },
    {
     "cell_type": "markdown",
     "metadata": {},
     "source": [
      "Return the sum of the numbers in the array, returning 0 for an empty array. Except the number 13 is very unlucky, so it does not count and numbers that come immediately after a 13 also do not count. \n",
      "\n",
      "sum13([1, 2, 2, 1]) \u2192 6<br>\n",
      "sum13([1, 1]) \u2192 2<br>\n",
      "sum13([1, 2, 2, 1, 13]) \u2192 6<br>"
     ]
    },
    {
     "cell_type": "heading",
     "level": 4,
     "metadata": {},
     "source": [
      "Pseudo-code"
     ]
    },
    {
     "cell_type": "code",
     "collapsed": false,
     "input": [
      "# loop through items\n",
      "# if i == 13, it doesn't count and neither does the item after it\n",
      "# add item to sum\n",
      "# return sum"
     ],
     "language": "python",
     "metadata": {},
     "outputs": [],
     "prompt_number": 2
    },
    {
     "cell_type": "heading",
     "level": 4,
     "metadata": {},
     "source": [
      "Function Definition"
     ]
    },
    {
     "cell_type": "code",
     "collapsed": false,
     "input": [
      "def sum13():\n",
      "    sum_nums = 0    #sum of items\n",
      "    \n",
      "    # check for 13; don't count it or the one after it; add i to sum\n",
      "    for i in range(len(nums)):\n",
      "        if nums[i] == 13:\n",
      "            print \"i:\" + str(i) + \" = \" + str(nums[i])\n",
      "            continue\n",
      "        elif i > 0:  \n",
      "            if nums[i-1] == 13:\n",
      "                print \"i:\" + str(i) + \" = \" + str(nums[i])\n",
      "                continue\n",
      "            else:\n",
      "                sum_nums += nums[i]\n",
      "                print \"i:\" + str(i) + \" = \" + str(nums[i]) + \"\\t sum = \" + str(sum_nums)\n",
      "        else:\n",
      "            sum_nums += nums[i]\n",
      "            print \"i:\" + str(i) + \" = \" + str(nums[i]) + \"\\t sum = \" + str(sum_nums)\n",
      "    \n",
      "    return sum_nums"
     ],
     "language": "python",
     "metadata": {},
     "outputs": [],
     "prompt_number": 68
    },
    {
     "cell_type": "heading",
     "level": 4,
     "metadata": {},
     "source": [
      "Test Data"
     ]
    },
    {
     "cell_type": "code",
     "collapsed": false,
     "input": [
      "nums = [1, 2, 2, 1, 13]\n",
      "ans = 6\n",
      "\n",
      "def check():\n",
      "    return my_ans == ans"
     ],
     "language": "python",
     "metadata": {},
     "outputs": [],
     "prompt_number": 71
    },
    {
     "cell_type": "heading",
     "level": 4,
     "metadata": {},
     "source": [
      "Test Answer"
     ]
    },
    {
     "cell_type": "code",
     "collapsed": false,
     "input": [
      "my_ans = sum13()\n",
      "print \"my_ans = \" + str(my_ans)\n",
      "check()"
     ],
     "language": "python",
     "metadata": {},
     "outputs": [
      {
       "output_type": "stream",
       "stream": "stdout",
       "text": [
        "i:0 = 1\t sum = 1\n",
        "i:1 = 2\t sum = 3\n",
        "i:2 = 2\t sum = 5\n",
        "i:3 = 1\t sum = 6\n",
        "i:4 = 13\n",
        "my_ans = 6\n"
       ]
      },
      {
       "metadata": {},
       "output_type": "pyout",
       "prompt_number": 72,
       "text": [
        "True"
       ]
      }
     ],
     "prompt_number": 72
    }
   ],
   "metadata": {}
  }
 ]
}