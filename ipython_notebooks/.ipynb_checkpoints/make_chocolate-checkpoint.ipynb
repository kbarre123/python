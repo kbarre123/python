{
 "metadata": {
  "name": "",
  "signature": "sha256:3bad275c358f506356243b8e09967a7414b011e3be2be067e3123b1f41525cf8"
 },
 "nbformat": 3,
 "nbformat_minor": 0,
 "worksheets": [
  {
   "cells": [
    {
     "cell_type": "heading",
     "level": 1,
     "metadata": {},
     "source": [
      "Make Chocolate"
     ]
    },
    {
     "cell_type": "markdown",
     "metadata": {},
     "source": [
      "Here, we're trying to make a batch of chocolate of size `goal` units. We've got `small` units (size of 1) and `big` units (size of 5). We'd like to use all of the `big` units we can before we start using the `small` units. If that's possible, return the number of `small` units we'll use. If we can't make the batch, return `-1`."
     ]
    },
    {
     "cell_type": "code",
     "collapsed": false,
     "input": [
      "def make_chocolate(small, big, goal):\n",
      "    sum_of_big = 0\n",
      "    big_count = big+1\n",
      "    \n",
      "    for i in range(big_count):\n",
      "        sum_of_big += (5 * i)\n",
      "        \n",
      "        goal_less_big = goal - sum_of_big\n",
      "        \n",
      "        if goal_less_big == 0:\n",
      "            return 0\n",
      "        elif goal_less_big < 0:\n",
      "            big_count = big_count - 1\n",
      "            sum_of_big = 0\n",
      "        elif goal_less_big <= small:\n",
      "            return goal_less_big\n",
      "        \n",
      "    return -1"
     ],
     "language": "python",
     "metadata": {},
     "outputs": [],
     "prompt_number": 8
    },
    {
     "cell_type": "code",
     "collapsed": false,
     "input": [
      "small = 6\n",
      "big = 2\n",
      "goal = 11\n",
      "ans = 1"
     ],
     "language": "python",
     "metadata": {},
     "outputs": [],
     "prompt_number": 9
    },
    {
     "cell_type": "code",
     "collapsed": false,
     "input": [
      "my_ans = make_chocolate(small, big, goal)\n",
      "print my_ans"
     ],
     "language": "python",
     "metadata": {},
     "outputs": [
      {
       "output_type": "stream",
       "stream": "stdout",
       "text": [
        "6\n"
       ]
      }
     ],
     "prompt_number": 10
    },
    {
     "cell_type": "code",
     "collapsed": false,
     "input": [
      "def check_ans(my_answer, right_ans):\n",
      "    if my_answer == right_ans: \n",
      "        print \"Correct\"\n",
      "    else: print \"Wrong\"\n",
      "        \n",
      "check_ans(my_ans, ans)"
     ],
     "language": "python",
     "metadata": {},
     "outputs": [
      {
       "output_type": "stream",
       "stream": "stdout",
       "text": [
        "Wrong\n"
       ]
      }
     ],
     "prompt_number": 11
    },
    {
     "cell_type": "code",
     "collapsed": false,
     "input": [],
     "language": "python",
     "metadata": {},
     "outputs": []
    }
   ],
   "metadata": {}
  }
 ]
}