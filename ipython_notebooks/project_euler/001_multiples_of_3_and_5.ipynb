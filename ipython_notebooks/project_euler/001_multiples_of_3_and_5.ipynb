{
 "metadata": {
  "name": "",
  "signature": "sha256:506dd423e31ffb806a8d73871770cbb25f8a4e6193afecb3ad333bd4c3b4ef86"
 },
 "nbformat": 3,
 "nbformat_minor": 0,
 "worksheets": [
  {
   "cells": [
    {
     "cell_type": "markdown",
     "metadata": {},
     "source": [
      "If we list all the natural numbers below 10 that are multiples of 3 or 5, we get 3, 5, 6 and 9. The sum of these multiples is 23.\n",
      "\n",
      "Find the sum of all the multiples of 3 or 5 below 1000."
     ]
    },
    {
     "cell_type": "code",
     "collapsed": false,
     "input": [
      "i = 1\n",
      "sum = 0\n",
      "\n",
      "while i < 1000:\n",
      "    if i % 3 == 0 or i % 5 == 0:\n",
      "        sum = sum + i\n",
      "        #print i\n",
      "        \n",
      "    i = i + 1\n",
      "        \n",
      "print sum"
     ],
     "language": "python",
     "metadata": {},
     "outputs": [
      {
       "output_type": "stream",
       "stream": "stdout",
       "text": [
        "233168\n"
       ]
      }
     ],
     "prompt_number": 8
    },
    {
     "cell_type": "markdown",
     "metadata": {},
     "source": [
      "Correct"
     ]
    }
   ],
   "metadata": {}
  }
 ]
}