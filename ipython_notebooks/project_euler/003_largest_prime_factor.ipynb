{
 "metadata": {
  "name": "",
  "signature": "sha256:5191347889fbb16e99426cf5b02b0b670a6675f7d6411f15d0c328ed172f2506"
 },
 "nbformat": 3,
 "nbformat_minor": 0,
 "worksheets": [
  {
   "cells": [
    {
     "cell_type": "markdown",
     "metadata": {},
     "source": [
      "The prime factors of 13195 are 5, 7, 13 and 29.\n",
      "\n",
      "What is the largest prime factor of the number 600,851,475,143?"
     ]
    },
    {
     "cell_type": "code",
     "collapsed": false,
     "input": [
      "import math\n",
      "target = 600851475143\n",
      "\n",
      "def prime(n):\n",
      "    i = 2\n",
      "    while (n % i != 0 and i < n):\n",
      "        i += 1\n",
      "    if (i < n):\n",
      "        return prime (n/i)\n",
      "    else:\n",
      "        print(\"The highest prime factor is:\"),n\n",
      "        \n",
      "prime(target)"
     ],
     "language": "python",
     "metadata": {},
     "outputs": [
      {
       "output_type": "stream",
       "stream": "stdout",
       "text": [
        "The highest prime factor is: 6857\n"
       ]
      }
     ],
     "prompt_number": 5
    },
    {
     "cell_type": "code",
     "collapsed": false,
     "input": [],
     "language": "python",
     "metadata": {},
     "outputs": []
    }
   ],
   "metadata": {}
  }
 ]
}