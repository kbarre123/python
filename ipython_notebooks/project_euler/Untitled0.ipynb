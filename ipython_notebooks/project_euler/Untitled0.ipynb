{
 "metadata": {
  "name": "",
  "signature": "sha256:2ac8fa4eb1cc442197da212d10c5ac6136814c0e922b0d9cf6c7dee9e967cf8f"
 },
 "nbformat": 3,
 "nbformat_minor": 0,
 "worksheets": [
  {
   "cells": [
    {
     "cell_type": "code",
     "collapsed": false,
     "input": [
      "#target = 600851475143\n",
      "target = 115\n",
      "\n",
      "def prime(n):\n",
      "    i=2\n",
      "    while (n%i != 0 and i < n):\n",
      "        i += 1\n",
      "    if (i < n):\n",
      "        return prime (n/i)\n",
      "    else:\n",
      "        print(\"The highest prime factor is: \"),n\n",
      "        \n",
      "prime(target)"
     ],
     "language": "python",
     "metadata": {},
     "outputs": [
      {
       "output_type": "stream",
       "stream": "stdout",
       "text": [
        "The highest prime factor is:  23\n"
       ]
      }
     ],
     "prompt_number": 2
    },
    {
     "cell_type": "code",
     "collapsed": false,
     "input": [],
     "language": "python",
     "metadata": {},
     "outputs": []
    }
   ],
   "metadata": {}
  }
 ]
}