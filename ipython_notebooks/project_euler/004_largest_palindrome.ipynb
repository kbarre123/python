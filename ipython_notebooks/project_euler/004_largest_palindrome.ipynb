{
 "metadata": {
  "name": "",
  "signature": "sha256:33041744cd1868474d947cd1fac4f9cc54f795e0b5480d35257ad811a758828d"
 },
 "nbformat": 3,
 "nbformat_minor": 0,
 "worksheets": [
  {
   "cells": [
    {
     "cell_type": "markdown",
     "metadata": {},
     "source": [
      "A palindromic number reads the same both ways. The largest palindrome made from the product of two 2-digit numbers is 9009 = 91 \u00d7 99.\n",
      "\n",
      "Find the largest palindrome made from the product of two 3-digit numbers.\n"
     ]
    },
    {
     "cell_type": "code",
     "collapsed": false,
     "input": [
      "import math\n",
      "\n",
      "array = []\n",
      "\n",
      "for i in range(999, 0, -1): # change back to 999\n",
      "    for j in range(999, 0, -1): # change back to 999\n",
      "        product = i * j\n",
      "        if is_palindrome(product):\n",
      "            array.append(product)\n",
      "\n",
      "print max(array)\n",
      "\n",
      "def is_palindrome(p):\n",
      "    if str(p) == str(p)[::-1]:\n",
      "        return True\n"
     ],
     "language": "python",
     "metadata": {},
     "outputs": [
      {
       "output_type": "stream",
       "stream": "stdout",
       "text": [
        "906609\n"
       ]
      }
     ],
     "prompt_number": 3
    },
    {
     "cell_type": "markdown",
     "metadata": {},
     "source": [
      "Correct!"
     ]
    }
   ],
   "metadata": {}
  }
 ]
}