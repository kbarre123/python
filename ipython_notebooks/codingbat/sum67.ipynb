{
 "metadata": {
  "name": "",
  "signature": "sha256:94e44464d08b34b1255627721f476265c2471ed98977ed294d63799b0275c8ea"
 },
 "nbformat": 3,
 "nbformat_minor": 0,
 "worksheets": [
  {
   "cells": [
    {
     "cell_type": "heading",
     "level": 1,
     "metadata": {},
     "source": [
      "sum67"
     ]
    },
    {
     "cell_type": "markdown",
     "metadata": {},
     "source": [
      "Return the sum of the numbers in the array, except ignore sections of numbers starting with a 6 and extending to the next 7 (every 6 will be followed by at least one 7). Return 0 for no numbers. \n",
      "\n",
      "sum67([1, 2, 2]) \u2192 5<br>\n",
      "sum67([1, 2, 2, 6, 99, 99, 7]) \u2192 5<br>\n",
      "sum67([1, 1, 6, 7, 2]) \u2192 4<br>"
     ]
    },
    {
     "cell_type": "heading",
     "level": 4,
     "metadata": {},
     "source": [
      "Pseudo-code"
     ]
    },
    {
     "cell_type": "code",
     "collapsed": false,
     "input": [
      "# loop through nums\n",
      "# if num == 6, everything b/t it and the next 7 is ignored\n",
      "# otherwise, sum and return nums"
     ],
     "language": "python",
     "metadata": {},
     "outputs": [],
     "prompt_number": 4
    },
    {
     "cell_type": "heading",
     "level": 4,
     "metadata": {},
     "source": [
      "Function Definition"
     ]
    },
    {
     "cell_type": "code",
     "collapsed": false,
     "input": [
      "def sum67():\n",
      "    sum_nums = 0\n",
      "    count_on = True\n",
      "    \n",
      "    for i in range(len(nums)):\n",
      "        if nums[i] == 6:\n",
      "            count_on = False\n",
      "            \n",
      "        if nums[i-1] == 7 and nums[i] != 6:\n",
      "            count_on = True\n",
      "            \n",
      "        if count_on == True:\n",
      "            sum_nums += nums[i]\n",
      "        \n",
      "    return sum_nums"
     ],
     "language": "python",
     "metadata": {},
     "outputs": [],
     "prompt_number": 56
    },
    {
     "cell_type": "heading",
     "level": 4,
     "metadata": {},
     "source": [
      "Test Data"
     ]
    },
    {
     "cell_type": "code",
     "collapsed": false,
     "input": [
      "nums = [1, 6, 2, 6, 2, 7, 1, 6, 99, 99, 7]\n",
      "ans = 2\n",
      "\n",
      "def check():\n",
      "    return my_ans == ans"
     ],
     "language": "python",
     "metadata": {},
     "outputs": [],
     "prompt_number": 57
    },
    {
     "cell_type": "heading",
     "level": 4,
     "metadata": {},
     "source": [
      "Test Answer"
     ]
    },
    {
     "cell_type": "code",
     "collapsed": false,
     "input": [
      "my_ans = sum67()\n",
      "print my_ans\n",
      "check()"
     ],
     "language": "python",
     "metadata": {},
     "outputs": [
      {
       "output_type": "stream",
       "stream": "stdout",
       "text": [
        "2\n"
       ]
      },
      {
       "metadata": {},
       "output_type": "pyout",
       "prompt_number": 58,
       "text": [
        "True"
       ]
      }
     ],
     "prompt_number": 58
    },
    {
     "cell_type": "code",
     "collapsed": false,
     "input": [],
     "language": "python",
     "metadata": {},
     "outputs": []
    }
   ],
   "metadata": {}
  }
 ]
}