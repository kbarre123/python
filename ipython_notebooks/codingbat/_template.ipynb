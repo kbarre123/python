{
 "metadata": {
  "name": "",
  "signature": "sha256:66f25af4667ed092b534b4715b855374484099c6125e7ea1e375255dd4a2fdfd"
 },
 "nbformat": 3,
 "nbformat_minor": 0,
 "worksheets": [
  {
   "cells": [
    {
     "cell_type": "heading",
     "level": 1,
     "metadata": {},
     "source": [
      "title"
     ]
    },
    {
     "cell_type": "markdown",
     "metadata": {},
     "source": [
      "problem description"
     ]
    },
    {
     "cell_type": "heading",
     "level": 4,
     "metadata": {},
     "source": [
      "Pseudo-code"
     ]
    },
    {
     "cell_type": "code",
     "collapsed": false,
     "input": [
      "# some pseudo-code here"
     ],
     "language": "python",
     "metadata": {},
     "outputs": [],
     "prompt_number": 1
    },
    {
     "cell_type": "heading",
     "level": 4,
     "metadata": {},
     "source": [
      "Function Definition"
     ]
    },
    {
     "cell_type": "code",
     "collapsed": false,
     "input": [
      "def function_name(agrs):\n",
      "    return 0"
     ],
     "language": "python",
     "metadata": {},
     "outputs": [],
     "prompt_number": 2
    },
    {
     "cell_type": "heading",
     "level": 4,
     "metadata": {},
     "source": [
      "Test Data"
     ]
    },
    {
     "cell_type": "code",
     "collapsed": false,
     "input": [
      "args = 0\n",
      "ans = 0\n",
      "\n",
      "def check():\n",
      "    return my_ans == ans"
     ],
     "language": "python",
     "metadata": {},
     "outputs": [],
     "prompt_number": 7
    },
    {
     "cell_type": "heading",
     "level": 4,
     "metadata": {},
     "source": [
      "Test Answer"
     ]
    },
    {
     "cell_type": "code",
     "collapsed": false,
     "input": [
      "my_ans = function_name(args)\n",
      "check()"
     ],
     "language": "python",
     "metadata": {},
     "outputs": [
      {
       "metadata": {},
       "output_type": "pyout",
       "prompt_number": 8,
       "text": [
        "True"
       ]
      }
     ],
     "prompt_number": 8
    }
   ],
   "metadata": {}
  }
 ]
}