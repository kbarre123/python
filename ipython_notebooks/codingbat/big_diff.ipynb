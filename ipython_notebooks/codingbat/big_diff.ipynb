{
 "metadata": {
  "name": "",
  "signature": "sha256:8e4e07e6ebbaefb7c1e2b05ee9a3967e6cef985d697d54794e87ae31908dd83e"
 },
 "nbformat": 3,
 "nbformat_minor": 0,
 "worksheets": [
  {
   "cells": [
    {
     "cell_type": "heading",
     "level": 1,
     "metadata": {},
     "source": [
      "big_diff"
     ]
    },
    {
     "cell_type": "markdown",
     "metadata": {},
     "source": [
      "Given an array length 1 or more of ints, return the difference between the largest and smallest values in the array. Note: the built-in min(v1, v2) and max(v1, v2) functions return the smaller or larger of two values.\n",
      "\n",
      "big_diff([10, 3, 5, 6]) \u2192 7<br>\n",
      "big_diff([7, 2, 10, 9]) \u2192 8<br>\n",
      "big_diff([2, 10, 7, 2]) \u2192 8<br>"
     ]
    },
    {
     "cell_type": "heading",
     "level": 4,
     "metadata": {},
     "source": [
      "Function Definition"
     ]
    },
    {
     "cell_type": "code",
     "collapsed": false,
     "input": [
      "def big_diff(nums):\n",
      "    my_min = nums[0]\n",
      "    my_max = nums[0]\n",
      "    \n",
      "    if len(nums) == 1:\n",
      "        return 0\n",
      "    elif len(nums) == 2:\n",
      "        my_min = min(nums[0], nums[1])\n",
      "        my_max = max(nums[0], nums[1])\n",
      "        return my_max - my_min\n",
      "    for i in range(len(nums)):\n",
      "        my_max = max(nums[i], my_max)\n",
      "        my_min = min(nums[i], my_min)\n",
      "        print str(i) + \": my_max = \" + str(my_max)\n",
      "        print str(i) + \": my_min = \" + str(my_min)\n",
      "    \n",
      "    print \"\"\n",
      "    print \"Final:\"\n",
      "    print \"my_max: \" + str(my_max)\n",
      "    print \"my_min: \" + str(my_min)\n",
      "    print \"diff: \" + str(my_max - my_min)\n",
      "    return my_max - my_min"
     ],
     "language": "python",
     "metadata": {},
     "outputs": [],
     "prompt_number": 76
    },
    {
     "cell_type": "code",
     "collapsed": false,
     "input": [
      "nums = [7, 2, 10, 9]\n",
      "ans = 8"
     ],
     "language": "python",
     "metadata": {},
     "outputs": [],
     "prompt_number": 77
    },
    {
     "cell_type": "code",
     "collapsed": false,
     "input": [
      "def check():\n",
      "    return ans == my_ans"
     ],
     "language": "python",
     "metadata": {},
     "outputs": [],
     "prompt_number": 78
    },
    {
     "cell_type": "code",
     "collapsed": false,
     "input": [
      "my_ans = big_diff(nums)\n",
      "check()"
     ],
     "language": "python",
     "metadata": {},
     "outputs": [
      {
       "output_type": "stream",
       "stream": "stdout",
       "text": [
        "0: my_max = 7\n",
        "0: my_min = 7\n",
        "1: my_max = 7\n",
        "1: my_min = 2\n",
        "2: my_max = 10\n",
        "2: my_min = 2\n",
        "3: my_max = 10\n",
        "3: my_min = 2\n",
        "\n",
        "Final:\n",
        "my_max: 10\n",
        "my_min: 2\n",
        "diff: 8\n"
       ]
      },
      {
       "metadata": {},
       "output_type": "pyout",
       "prompt_number": 79,
       "text": [
        "True"
       ]
      }
     ],
     "prompt_number": 79
    },
    {
     "cell_type": "code",
     "collapsed": false,
     "input": [],
     "language": "python",
     "metadata": {},
     "outputs": []
    }
   ],
   "metadata": {}
  }
 ]
}