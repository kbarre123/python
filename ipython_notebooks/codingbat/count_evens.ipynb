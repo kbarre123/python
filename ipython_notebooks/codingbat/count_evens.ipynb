{
 "metadata": {
  "name": "",
  "signature": "sha256:a5d3510cc0479cae40b97ff716fce21260d450fec5c426699e62fb70a0b7fe18"
 },
 "nbformat": 3,
 "nbformat_minor": 0,
 "worksheets": [
  {
   "cells": [
    {
     "cell_type": "heading",
     "level": 1,
     "metadata": {},
     "source": [
      "count_evens"
     ]
    },
    {
     "cell_type": "markdown",
     "metadata": {},
     "source": [
      "<p>Return the number of even ints in the given array. Note: the % \"mod\" operator computes the remainder, e.g. 5 % 2 is 1.</p>\n",
      "\n",
      "<p>\n",
      "    count_evens([2, 1, 2, 3, 4]) \u2192 3<br>\n",
      "    count_evens([2, 2, 0]) \u2192 3<br>\n",
      "    count_evens([1, 3, 5]) \u2192 0\n",
      "</p>\n",
      "<br>"
     ]
    },
    {
     "cell_type": "heading",
     "level": 4,
     "metadata": {},
     "source": [
      "Function Definition"
     ]
    },
    {
     "cell_type": "code",
     "collapsed": false,
     "input": [
      "def count_evens(nums):\n",
      "    count = 0\n",
      "    \n",
      "    for dongs in nums:\n",
      "        if num % 2 == 0:\n",
      "            count += 1\n",
      "            \n",
      "    return count"
     ],
     "language": "python",
     "metadata": {},
     "outputs": [],
     "prompt_number": 2
    },
    {
     "cell_type": "code",
     "collapsed": false,
     "input": [
      "nums = [2, 2, 0, 1, 3, 5, 7, 8, 10]\n",
      "ans = 5"
     ],
     "language": "python",
     "metadata": {},
     "outputs": [],
     "prompt_number": 9
    },
    {
     "cell_type": "code",
     "collapsed": false,
     "input": [
      "def check():\n",
      "    return ans == my_ans"
     ],
     "language": "python",
     "metadata": {},
     "outputs": [],
     "prompt_number": 10
    },
    {
     "cell_type": "code",
     "collapsed": false,
     "input": [
      "my_ans = count_evens(nums)\n",
      "print my_ans\n",
      "check()"
     ],
     "language": "python",
     "metadata": {},
     "outputs": [
      {
       "output_type": "stream",
       "stream": "stdout",
       "text": [
        "5\n"
       ]
      },
      {
       "metadata": {},
       "output_type": "pyout",
       "prompt_number": 11,
       "text": [
        "True"
       ]
      }
     ],
     "prompt_number": 11
    },
    {
     "cell_type": "code",
     "collapsed": false,
     "input": [],
     "language": "python",
     "metadata": {},
     "outputs": []
    }
   ],
   "metadata": {}
  }
 ]
}