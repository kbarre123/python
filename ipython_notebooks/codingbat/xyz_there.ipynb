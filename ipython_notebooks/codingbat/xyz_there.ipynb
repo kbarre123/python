{
 "metadata": {
  "name": "",
  "signature": "sha256:7d423956576d31e636123d972e1bc3db1abdbc9f6bd8bfd31f73075e17947577"
 },
 "nbformat": 3,
 "nbformat_minor": 0,
 "worksheets": [
  {
   "cells": [
    {
     "cell_type": "heading",
     "level": 1,
     "metadata": {},
     "source": [
      "xyz_there"
     ]
    },
    {
     "cell_type": "markdown",
     "metadata": {},
     "source": [
      "Return True if the given string contains an appearance of \"xyz\" where the xyz is not directly preceeded by a period (.). So \"xxyz\" counts but \"x.xyz\" does not. "
     ]
    },
    {
     "cell_type": "heading",
     "level": 4,
     "metadata": {},
     "source": [
      "Function Definition"
     ]
    },
    {
     "cell_type": "code",
     "collapsed": false,
     "input": [
      "def xyz_there(str):\n",
      "    for i in range(len(str)-2):\n",
      "        if str[i:i+3] == 'xyz':\n",
      "            if i == 0:\n",
      "                return True\n",
      "            elif str[i-1] == '.':\n",
      "                continue\n",
      "            else:\n",
      "                return True\n",
      "    return False"
     ],
     "language": "python",
     "metadata": {},
     "outputs": [],
     "prompt_number": 71
    },
    {
     "cell_type": "code",
     "collapsed": false,
     "input": [
      "str = 'xyz.abc.'\n",
      "ans = True"
     ],
     "language": "python",
     "metadata": {},
     "outputs": [],
     "prompt_number": 75
    },
    {
     "cell_type": "code",
     "collapsed": false,
     "input": [
      "def check():\n",
      "    return my_ans == ans"
     ],
     "language": "python",
     "metadata": {},
     "outputs": [],
     "prompt_number": 76
    },
    {
     "cell_type": "code",
     "collapsed": false,
     "input": [
      "my_ans = xyz_there(str)\n",
      "check()"
     ],
     "language": "python",
     "metadata": {},
     "outputs": [
      {
       "metadata": {},
       "output_type": "pyout",
       "prompt_number": 77,
       "text": [
        "True"
       ]
      }
     ],
     "prompt_number": 77
    },
    {
     "cell_type": "code",
     "collapsed": false,
     "input": [],
     "language": "python",
     "metadata": {},
     "outputs": []
    }
   ],
   "metadata": {}
  }
 ]
}