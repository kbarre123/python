{
 "metadata": {
  "name": "",
  "signature": "sha256:7129811f244719ee77de286b8d42faa3dcd34b9186e1247792c8c7fb29be1470"
 },
 "nbformat": 3,
 "nbformat_minor": 0,
 "worksheets": [
  {
   "cells": [
    {
     "cell_type": "code",
     "collapsed": false,
     "input": [
      "def end_other(a, b):\n",
      "    str_a = a.lower()\n",
      "    str_b = b.lower()\n",
      "    \n",
      "    if str_a == str_b:\n",
      "        print \"strings are equal\"\n",
      "        return True\n",
      "    elif len(str_a) > len(str_b):\n",
      "        str_big = str_a\n",
      "        str_small = str_b\n",
      "    else:\n",
      "        str_big = str_b\n",
      "        str_small = str_a\n",
      "        \n",
      "    print \"str_big: \" + str(str_big) + \", \" + str(len(str_big))\n",
      "    print \"str_small: \" + str(str_small) + \", \" + str(len(str_small))\n",
      "    \n",
      "    if str_big[-(len(str_small)):] == str_small:\n",
      "        print \"target: \" + str_big[-(len(str_small)):] + \", \" + str(len(str_big[(len(str_small)):]))\n",
      "        return True\n",
      "    else:\n",
      "        print \"target: \" + str_big[-(len(str_small)):] + \", \" + str(len(str_big[(len(str_small)):]))\n",
      "        return False"
     ],
     "language": "python",
     "metadata": {},
     "outputs": [],
     "prompt_number": 32
    },
    {
     "cell_type": "code",
     "collapsed": false,
     "input": [
      "strA = 'Hiabc'\n",
      "strB = 'abc'"
     ],
     "language": "python",
     "metadata": {},
     "outputs": [],
     "prompt_number": 33
    },
    {
     "cell_type": "code",
     "collapsed": false,
     "input": [
      "end_other(strA, strB)"
     ],
     "language": "python",
     "metadata": {},
     "outputs": [
      {
       "output_type": "stream",
       "stream": "stdout",
       "text": [
        "str_big: hiabc, 5\n",
        "str_small: abc, 3\n",
        "target: abc, 2\n"
       ]
      },
      {
       "metadata": {},
       "output_type": "pyout",
       "prompt_number": 34,
       "text": [
        "True"
       ]
      }
     ],
     "prompt_number": 34
    }
   ],
   "metadata": {}
  }
 ]
}