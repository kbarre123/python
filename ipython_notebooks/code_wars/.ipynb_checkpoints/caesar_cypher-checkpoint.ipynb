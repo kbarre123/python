{
 "metadata": {
  "name": "",
  "signature": "sha256:e7cd76c1efda556f2b499b347ff05191199888a1fe24549d58709616ababcec6"
 },
 "nbformat": 3,
 "nbformat_minor": 0,
 "worksheets": [
  {
   "cells": [
    {
     "cell_type": "markdown",
     "metadata": {},
     "source": [
      "Not done: Description"
     ]
    },
    {
     "cell_type": "code",
     "collapsed": false,
     "input": [
      "import sys\n",
      "\n",
      "def encryptor(key, message):\n",
      "    if key < -26 or key > 26:\n",
      "        print \"Error: Key out of bound!\"\n",
      "    \n",
      "    ans = \"\"\n",
      "    _char_pos = 0\n",
      "    _char_fix = ''\n",
      "    upper_flag = 0\n",
      "    alpha = \"abcdefghijklmnopqrstuvwxyz\"\n",
      "    \n",
      "    for i in range(len(message)):\n",
      "        if message[i].isupper():\n",
      "            message[i].tolower()\n",
      "            upper_flag = 1\n",
      "        else:\n",
      "        _char_pos = alpha.find(message[i])\n",
      "        print message[i], _char_pos\n",
      "        #print _char_pos\n",
      "        #_char_fix = alpha[_char_pos]\n",
      "        #ans += _char_fix\n",
      "        \n",
      "    #print ans\n",
      "\n",
      "with open('caesar_cypher.txt', 'r') as f: # Be sure to change data.txt to sys.argv[1] before submitting\n",
      "    for line in f:\n",
      "        line = line.strip() # Strip leading/trailing space\n",
      "        _key = line.split() # Split each word into an item in a list \n",
      "        key = int(_key[0])  # parse out the key\n",
      "        my_string = \" \".join(_key[1:]) # join the remaining list into a string; this is our message\n",
      "        \n",
      "        print \"key:\", key # debug\n",
      "        print \"my_string:\", my_string #debug\n",
      "        #print \"\\r\" # debug\n",
      "        \n",
      "        # DO SOMETHING INTERESTING HERE\n",
      "        ans = encryptor(key, my_string)\n",
      "        #ans.strip() # Strip trailing spaces\n",
      "        \n",
      "        #print ans # Print ans\n",
      "        print \"\\r\""
     ],
     "language": "python",
     "metadata": {},
     "outputs": [
      {
       "output_type": "stream",
       "stream": "stdout",
       "text": [
        "key: 13\n",
        "my_string: Caesar Cipher\n",
        "C -1\n",
        "a 0\n",
        "e 4\n",
        "s 18\n",
        "a 0\n",
        "r 17\n",
        "  -1\n",
        "C -1\n",
        "i 8\n",
        "p 15\n",
        "h 7\n",
        "e 4\n",
        "r 17\n",
        "\r\n",
        "key: -5\n",
        "my_string: Hello World!\n",
        "H -1\n",
        "e 4\n",
        "l 11\n",
        "l 11\n",
        "o 14\n",
        "  -1\n",
        "W -1\n",
        "o 14\n",
        "r 17\n",
        "l 11\n",
        "d 3\n",
        "! -1\n",
        "\r\n",
        "key: 27\n",
        "my_string: Whoopi Goldberg\n",
        "Error: Key out of bound!\n",
        "W -1\n",
        "h 7\n",
        "o 14\n",
        "o 14\n",
        "p 15\n",
        "i 8\n",
        "  -1\n",
        "G -1\n",
        "o 14\n",
        "l 11\n",
        "d 3\n",
        "b 1\n",
        "e 4\n",
        "r 17\n",
        "g 6\n",
        "\r\n"
       ]
      }
     ],
     "prompt_number": 64
    },
    {
     "cell_type": "code",
     "collapsed": false,
     "input": [],
     "language": "python",
     "metadata": {},
     "outputs": []
    }
   ],
   "metadata": {}
  }
 ]
}