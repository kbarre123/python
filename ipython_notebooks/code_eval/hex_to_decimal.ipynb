{
 "metadata": {
  "name": "",
  "signature": "sha256:354d9ca65b36cc4573ecc16013182d4e92ef38fb68c18df8dda6f5245dfea83b"
 },
 "nbformat": 3,
 "nbformat_minor": 0,
 "worksheets": [
  {
   "cells": [
    {
     "cell_type": "markdown",
     "metadata": {},
     "source": [
      "Convert a hex to a decimal number.\n",
      "\n",
      "Input:\n",
      "<p>9f<br>\n",
      "11</p>\n",
      "\n",
      "Output:\n",
      "<p>159<br>\n",
      "17</p>"
     ]
    },
    {
     "cell_type": "code",
     "collapsed": false,
     "input": [
      "import sys\n",
      "\n",
      "with open('hex_to_dec.txt', 'r') as f: # Be sure to change data.txt to sys.argv[1] before submitting\n",
      "    for line in f:\n",
      "        ans = 0\n",
      "        line = line.strip() # Strip leading/trailing spaces\n",
      "        \n",
      "        ans = int(line, 16)\n",
      "            \n",
      "        print ans"
     ],
     "language": "python",
     "metadata": {},
     "outputs": [
      {
       "output_type": "stream",
       "stream": "stdout",
       "text": [
        "159\n",
        "17\n"
       ]
      }
     ],
     "prompt_number": 48
    }
   ],
   "metadata": {}
  }
 ]
}