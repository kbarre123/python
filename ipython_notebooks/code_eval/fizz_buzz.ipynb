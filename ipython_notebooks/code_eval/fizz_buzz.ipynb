{
 "metadata": {
  "name": "",
  "signature": "sha256:9d8da66d4c98ceaa19b475df6dfad2c1d942fcea22c0cd04cc8a444e45a6427b"
 },
 "nbformat": 3,
 "nbformat_minor": 0,
 "worksheets": [
  {
   "cells": [
    {
     "cell_type": "markdown",
     "metadata": {},
     "source": [
      "Open a file, read its contents, manipulate the contents into something useable."
     ]
    },
    {
     "cell_type": "code",
     "collapsed": false,
     "input": [
      "import sys\n",
      "\n",
      "with open('data.txt', 'r') as f:\n",
      "\n",
      "    # Loop over lines and extract variables of interest\n",
      "    for line in f:\n",
      "        line = line.strip()\n",
      "        nums = line.split()\n",
      "        a = int(nums[0])\n",
      "        b = int(nums[1])\n",
      "        c = int(nums[2]) + 1\n",
      "        #print a, b, c\n",
      "\n",
      "        ans = \"\"\n",
      "        for i in range(1, c):\n",
      "            if (i % a) and (i % b) == 0:\n",
      "                ans += (\"FB \")\n",
      "            elif (i % a) == 0:\n",
      "                ans += (\"F \")\n",
      "            elif (i % b) == 0:\n",
      "                ans += (\"B \")\n",
      "            else:\n",
      "                ans += (str(i) + \" \")\n",
      "        ans.strip()\n",
      "        print ans"
     ],
     "language": "python",
     "metadata": {},
     "outputs": [
      {
       "output_type": "stream",
       "stream": "stdout",
       "text": [
        "1 F 3 F 5 F 7 F 9 F 11 F 13 F FB F 17 F 19 F 21 F 23 F 25 F 27 F 29 F 31 F 33 F 35 F 37 F 39 F 41 F 43 F FB F 47 F 49 F 51 F 53 F 55 F 57 F 59 F 61 F 63 F 65 F 67 F 69 F \n",
        "1 2 3 4 5 6 7 8 9 FB 11 F 13 14 15 16 17 18 19 FB 21 22 23 F 25 26 27 28 29 FB 31 32 33 34 35 F 37 38 39 FB 41 42 43 44 45 46 47 F 49 FB 51 52 53 54 55 56 57 58 59 F 61 62 63 64 65 66 67 68 69 FB 71 F 73 74 75 76 77 78 79 FB \n",
        "1 2 FB 4 5 FB 7 8 FB 10 11 FB 13 14 FB F 17 FB 19 20 FB 22 23 FB 25 26 FB 28 29 FB 31 F FB 34 35 FB 37 38 FB 40 41 FB 43 44 FB 46 47 F 49 50 FB 52 53 FB 55 56 FB 58 59 FB 61 62 FB F 65 FB 67 68 FB 70 71 FB 73 74 FB 76 77 FB 79 F FB 82 83 FB 85 86 FB 88 89 FB 91 92 FB 94 95 F 97 \n",
        "1 FB 3 FB 5 FB 7 FB 9 FB 11 FB 13 FB F FB 17 FB 19 FB 21 FB 23 FB 25 FB 27 FB 29 \n",
        "1 2 3 4 5 6 FB 8 9 10 11 12 13 FB 15 16 F 18 19 20 FB 22 23 24 25 26 27 FB 29 30 31 32 33 F FB 36 37 38 39 40 41 FB 43 44 45 46 47 48 \n",
        "1 2 3 4 5 6 7 8 9 10 F 12 13 14 15 16 FB 18 19 20 21 F 23 24 25 26 27 28 29 30 31 32 F FB 35 36 37 38 39 40 41 42 43 F 45 46 47 48 49 50 FB 52 53 54 F 56 57 58 59 60 61 62 \n",
        "1 2 3 4 5 6 7 8 9 10 FB 12 F 14 15 16 17 18 19 20 21 FB 23 24 25 F 27 28 29 30 31 32 FB 34 35 36 37 38 F 40 41 42 43 FB 45 46 47 48 49 50 51 F 53 54 FB 56 57 58 59 60 61 62 63 64 F FB 67 68 69 70 71 72 73 74 75 76 FB F 79 80 81 82 83 84 85 86 \n",
        "1 2 3 4 5 6 7 F FB 10 11 12 13 14 15 F 17 FB 19 20 21 22 \n",
        "F F F F F F F F F F F F F F F F F F F F F F F F F F F F F F F F F F F F F F F F F F F F F F F F F F F F F F F F F F F F F F F F F F F F F F F \n",
        "1 2 3 4 5 6 7 8 9 F 11 12 13 14 15 16 17 18 19 F 21 22 23 24 25 26 27 28 29 F 31 32 33 34 35 36 37 38 39 F 41 42 43 44 45 46 47 48 49 F 51 52 53 54 55 56 57 58 59 F 61 62 63 64 65 66 67 68 69 F 71 72 73 74 75 76 77 78 79 F 81 82 83 84 85 86 87 88 89 F 91 92 93 94 \n",
        "1 2 3 4 5 6 7 FB 9 10 11 12 13 14 15 FB 17 F 19 20 21 22 23 FB 25 26 27 28 29 30 31 FB 33 34 35 F 37 38 39 FB 41 42 43 44 45 46 47 FB 49 50 51 52 53 F 55 FB 57 58 59 60 61 62 63 FB 65 66 67 68 69 70 71 F 73 74 75 76 77 \n",
        "1 F 3 F 5 F 7 F 9 F 11 F 13 F 15 F 17 F 19 F 21 F 23 F 25 F 27 F 29 F 31 F 33 F 35 F 37 F 39 F \n",
        "1 2 3 4 5 F 7 8 9 10 11 F 13 14 15 FB 17 F 19 20 21 22 23 F 25 26 27 28 29 F 31 FB 33 34 35 F 37 38 39 40 41 F 43 44 45 46 47 F 49 50 51 52 53 F \n",
        "1 2 3 4 5 FB 7 8 9 10 11 FB 13 14 15 16 F FB 19 20 21 22 23 FB 25 26 27 28 29 FB 31 32 33 F 35 FB 37 38 39 40 41 FB 43 44 45 46 47 FB 49 50 F 52 53 FB 55 56 57 58 59 FB 61 62 63 64 65 FB 67 F 69 70 71 FB 73 74 75 76 77 FB 79 80 81 82 83 FB F 86 87 88 89 FB \n",
        "1 2 3 4 FB 6 7 8 9 FB 11 12 13 14 FB 16 17 18 19 F 21 22 23 24 FB 26 27 28 29 FB 31 32 33 34 FB 36 37 38 39 F 41 42 43 44 FB 46 47 48 49 FB 51 52 53 54 FB 56 57 58 59 F 61 62 63 64 FB 66 67 68 69 FB 71 72 73 74 FB 76 77 \n",
        "1 2 3 4 5 6 7 8 9 10 11 12 13 FB 15 16 F 18 19 20 21 22 23 24 25 26 27 FB 29 30 31 32 33 F 35 36 37 38 39 40 41 FB 43 44 45 46 47 48 49 50 F 52 53 54 55 FB 57 \n",
        "1 2 3 4 5 6 7 8 9 10 11 12 13 14 15 F 17 18 FB 20 21 22 23 24 25 26 27 28 29 30 31 F 33 34 35 36 37 FB 39 40 41 42 43 44 45 46 47 F 49 50 \n",
        "1 2 3 4 5 6 7 F 9 10 11 12 13 14 FB F 17 18 19 20 21 22 23 F 25 26 27 28 29 FB 31 F 33 34 35 36 37 38 39 F 41 42 43 44 FB \n",
        "1 FB F FB 5 F 7 FB F FB 11 F 13 FB F FB 17 F 19 FB F FB 23 F 25 FB F FB 29 F 31 FB F FB 35 F 37 FB F FB 41 F 43 FB F FB 47 F 49 FB F FB 53 F 55 FB F FB 59 F 61 FB F FB 65 F \n",
        "1 2 3 4 5 F 7 8 9 10 11 F 13 FB 15 16 17 F 19 20 21 \n"
       ]
      },
      {
       "metadata": {},
       "output_type": "pyout",
       "prompt_number": 58,
       "text": [
        "True"
       ]
      }
     ],
     "prompt_number": 58
    },
    {
     "cell_type": "code",
     "collapsed": false,
     "input": [
      "f.closed"
     ],
     "language": "python",
     "metadata": {},
     "outputs": [
      {
       "metadata": {},
       "output_type": "pyout",
       "prompt_number": 59,
       "text": [
        "True"
       ]
      }
     ],
     "prompt_number": 59
    }
   ],
   "metadata": {}
  }
 ]
}