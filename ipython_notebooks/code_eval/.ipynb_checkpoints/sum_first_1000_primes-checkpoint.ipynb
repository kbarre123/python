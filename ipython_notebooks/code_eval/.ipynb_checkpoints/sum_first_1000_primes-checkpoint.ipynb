{
 "metadata": {
  "name": "",
  "signature": "sha256:d771c4bbe001792673ad8ee35eb76fd741f1505074ec1dc4aaaf99ed52b18cd5"
 },
 "nbformat": 3,
 "nbformat_minor": 0,
 "worksheets": [
  {
   "cells": [
    {
     "cell_type": "markdown",
     "metadata": {},
     "source": [
      "Write a program which determines the sum of the first 1000 prime numbers.\n",
      "\n",
      "Ans: 3682913"
     ]
    },
    {
     "cell_type": "code",
     "collapsed": false,
     "input": [
      "import sys\n",
      "\n",
      "count = 0\n",
      "num = 2\n",
      "total = 0\n",
      "\n",
      "print \"count: \", count\n",
      "print \"num: \", num\n",
      "print \"total: \", total\n",
      "\n",
      "while count < 1000:\n",
      "    for i in range(2, num):\n",
      "        if num % i == 0:\n",
      "            num = num + 1\n",
      "        else:\n",
      "            total = total + num\n",
      "            count = count + 1\n",
      "            num = num + 1\n",
      "            break\n",
      "\n",
      "print \"count: \", count\n",
      "print \"num: \", num\n",
      "print \"total: \", total\n",
      "            "
     ],
     "language": "python",
     "metadata": {},
     "outputs": []
    }
   ],
   "metadata": {}
  }
 ]
}