{
 "metadata": {
  "name": "",
  "signature": "sha256:491ae4f5119505990f4ce9a9e1734739597a1e745312f6c821275832d65eb914"
 },
 "nbformat": 3,
 "nbformat_minor": 0,
 "worksheets": [
  {
   "cells": [
    {
     "cell_type": "markdown",
     "metadata": {},
     "source": [
      "<b>A text is scrambled in a pattern-like manner. Unscramble it so that it makes sense.</b>\n",
      "\n",
      "Example Input:\n",
      "<p>2000 and was not However, implemented 1998 it until; 9 8 3 4 1 5 7 2<br>\n",
      "programming first The language; 3 2 1<br>\n",
      "programs Manchester The written ran Mark 1952 1 in Autocode from; 6 2 1 7 5 3 11 4 8 9<br></p>\n",
      "\n",
      "Example Output:\n",
      "<p>However, it was not implemented until 1998 and 2000<br>\n",
      "The first programming language<br>\n",
      "The Manchester Mark 1 ran programs written in Autocode from 1952<br></p>\n",
      "<br>"
     ]
    },
    {
     "cell_type": "code",
     "collapsed": false,
     "input": [
      "import sys\n",
      "\n",
      "with open('data_recovery.txt', 'r') as f: # Be sure to change file_name.txt to sys.argv[1] before submitting\n",
      "    for line in f:\n",
      "        line = line.strip() # Strip leading/trailing spaces\n",
      "        nums = line.split() # Split each word into an item in a list\n",
      "        #print nums\n",
      "        \n",
      "        for num in nums: # for each line\n",
      "            words = [] # list to hold the words\n",
      "            numbers = [] # list to hold the numbers\n",
      "            flag1 = 0 # flag to keep track of there the words stop and the ints begin\n",
      "            \n",
      "            # Put all words in one list\n",
      "            for i in range(0, len(nums)): # for each item in line\n",
      "                if not ';' in nums[i-1]: # check if we've not reached a number, append to words \n",
      "                    words.append(nums[i])\n",
      "                else: # if a number, break and start work in numbers\n",
      "                    flag1 = i\n",
      "                    break\n",
      "            \n",
      "            # Put all ints in another list\n",
      "            for i in range(flag1, len(nums)):\n",
      "                numbers.append(int(nums[i]))\n",
      "        \n",
      "        # Rearrange words[] in the order indicated by numbers[]\n",
      "        print \"words:   \", words\n",
      "        print \"numbers: \", numbers\n",
      "        _words = [0] * len(words) # buffer to hold words while rearranging\n",
      "        \n",
      "        for i in range(len(words)-1):\n",
      "            print numbers[i]\n",
      "        \n",
      "        print \"_words:  \", _words\n",
      "        print \"\"\n",
      "        \n",
      "        #ans = \"\" # Store the results here\n",
      "        \n",
      "        # DO SOMETHING INTERESTING HERE\n",
      "        \n",
      "        #ans.strip # Strip trailing spaces\n",
      "        \n",
      "        #print ans # Print ans"
     ],
     "language": "python",
     "metadata": {},
     "outputs": [
      {
       "output_type": "stream",
       "stream": "stdout",
       "text": [
        "words:    ['2000', 'and', 'was', 'not', 'However,', 'implemented', '1998', 'it', 'until;']\n",
        "numbers:  [9, 8, 3, 4, 1, 5, 7, 2]\n",
        "9\n",
        "8\n",
        "3\n",
        "4\n",
        "1\n",
        "5\n",
        "7\n",
        "2\n",
        "_words:   [0, 0, 0, 0, 0, 0, 0, 0, 0]\n",
        "\n",
        "words:    ['programming', 'first', 'The', 'language;']\n",
        "numbers:  [3, 2, 1]\n",
        "3\n",
        "2\n",
        "1\n",
        "_words:   [0, 0, 0, 0]\n",
        "\n",
        "words:    ['programs', 'Manchester', 'The', 'written', 'ran', 'Mark', '1952', '1', 'in', 'Autocode', 'from;']\n",
        "numbers:  [6, 2, 1, 7, 5, 3, 11, 4, 8, 9]\n",
        "6\n",
        "2\n",
        "1\n",
        "7\n",
        "5\n",
        "3\n",
        "11\n",
        "4\n",
        "8\n",
        "9\n",
        "_words:   [0, 0, 0, 0, 0, 0, 0, 0, 0, 0, 0]\n",
        "\n"
       ]
      }
     ],
     "prompt_number": 73
    },
    {
     "cell_type": "code",
     "collapsed": false,
     "input": [
      "# loop through the list1\n",
      "# append each item to new list2, breaking when you reach the word ending in ';'\n",
      "# from there on, append each int into a new list3\n",
      "# rearrange list2 based on list3\n",
      "# loop through list2, appending each item (now in proper order) into ans\n",
      "# print ans, stripping the ';' off the end\n"
     ],
     "language": "python",
     "metadata": {},
     "outputs": [],
     "prompt_number": 6
    }
   ],
   "metadata": {}
  }
 ]
}