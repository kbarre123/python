{
 "metadata": {
  "name": "",
  "signature": "sha256:8262ceab4a249d3a9301102c68727b7c4724fe2fea2b672b3b0d299d7aad3f52"
 },
 "nbformat": 3,
 "nbformat_minor": 0,
 "worksheets": [
  {
   "cells": [
    {
     "cell_type": "markdown",
     "metadata": {},
     "source": [
      "Write a program to determine the shortest repetition in a string.\n",
      "\n",
      "Example input:\n",
      "<p>\n",
      "    abcabcabcabc<br>\n",
      "    bcbcbcbcbcbcbcbcbcbcbcbcbcbc<br>\n",
      "    dddddddddddddddddddd<br>\n",
      "    adcdefg\n",
      "</p>\n",
      "\n",
      "Example output:\n",
      "<p>\n",
      "    3<br>\n",
      "    2<br>\n",
      "    1<br>\n",
      "    7<br>\n",
      "</p>"
     ]
    },
    {
     "cell_type": "code",
     "collapsed": false,
     "input": [
      "import sys\n",
      "import re\n",
      "\n",
      "with open('shortest_repetition.txt', 'r') as f: # Be sure to change shortest_repetition.txt to 'sys.argv[1]' before submitting\n",
      "    for line in f:\n",
      "        line = line.strip() # Strip leading/trailing spaces\n",
      "        word = line.split() # Split each word into an item in a list\n",
      "        word = word[0] # Simpify things, we just have one word\n",
      "        print word\n",
      "        \n",
      "        length = len(word) # Length of word\n",
      "        print \"length: \" + str(length)\n",
      "    \n",
      "        print \"\"\n",
      "    #print ans # Print ans"
     ],
     "language": "python",
     "metadata": {},
     "outputs": [
      {
       "output_type": "stream",
       "stream": "stdout",
       "text": [
        "abcabcabcabc\n",
        "length: 12\n",
        "\n",
        "bcbcbcbcbcbcbcbcbcbcbcbcbcbc\n",
        "length: 28\n",
        "\n",
        "dddddddddddddddddddd\n",
        "length: 20\n",
        "\n",
        "adcdefg\n",
        "length: 7\n",
        "\n"
       ]
      }
     ],
     "prompt_number": 36
    },
    {
     "cell_type": "code",
     "collapsed": false,
     "input": [],
     "language": "python",
     "metadata": {},
     "outputs": []
    }
   ],
   "metadata": {}
  }
 ]
}