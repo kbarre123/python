{
 "metadata": {
  "name": "",
  "signature": "sha256:ff326ca353f363b3b86c3299b590d96af652babd3a7bf6d2ccaf11c3b639c61a"
 },
 "nbformat": 3,
 "nbformat_minor": 0,
 "worksheets": []
}