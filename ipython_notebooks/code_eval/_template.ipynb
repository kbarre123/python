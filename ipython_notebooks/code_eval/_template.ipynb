{
 "metadata": {
  "name": "",
  "signature": "sha256:9a07a335be9eb050bcd1cbe286cf3debeb9e283ef4d1cbb484989315f26da7da"
 },
 "nbformat": 3,
 "nbformat_minor": 0,
 "worksheets": [
  {
   "cells": [
    {
     "cell_type": "markdown",
     "metadata": {},
     "source": [
      "Description."
     ]
    },
    {
     "cell_type": "code",
     "collapsed": false,
     "input": [
      "import sys\n",
      "\n",
      "with open('data.txt', 'r') as f: # Be sure to change data.txt to sys.argv[1] before submitting\n",
      "    for line in f:\n",
      "        line = line.strip() # Strip leading/trailing spaces\n",
      "        nums = line.split() # Split each word into an item in a list \n",
      "        \n",
      "        ans = \"\" # Store the results here\n",
      "        \n",
      "        # DO SOMETHING INTERESTING HERE\n",
      "        \n",
      "        ans.strip() # Strip trailing spaces\n",
      "        \n",
      "    print ans # Print ans"
     ],
     "language": "python",
     "metadata": {},
     "outputs": [
      {
       "output_type": "stream",
       "stream": "stdout",
       "text": [
        "\n"
       ]
      }
     ],
     "prompt_number": 1
    }
   ],
   "metadata": {}
  }
 ]
}